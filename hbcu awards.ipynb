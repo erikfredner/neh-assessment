{
    "cells": [
        {
            "cell_type": "markdown",
            "metadata": {},
            "source": [
                "# The National Endowment for the Humanities's Grantmaking to Historically Black Colleges and Universities, 1965-Present\n",
                "\n",
                "Erik Fredner\n",
                "\n",
                "2023-09-13"
            ]
        },
        {
            "cell_type": "markdown",
            "metadata": {},
            "source": [
                "# Introduction\n",
                "\n",
                "Of the awards granted by the National Endowment for the Humanities (NEH) to colleges and universities since its founding in 1965, what proportion have been allocated to historically Black colleges and universities (HBCUs)? And how has that allocation changed over time?\n",
                "\n",
                "Answering these questions matters for our understanding of the past, present, and future of the NEH's grantmaking efforts. It has been frequently demonstrated by social scientists, economists, and humanists that actors both public and private have consistently underinvested in Black communities and institutions. Understanding the NEH's grantmaking history in relation to this widespread US pattern raises a broader question that we cannot answer with data alone. How should grantmakers and policymakers respond to these histories today?"
            ]
        },
        {
            "cell_type": "markdown",
            "metadata": {},
            "source": [
                "## Approach\n",
                "\n",
                "By aligning the NEH's [grant award data](https://catalog.data.gov/organization/neh-gov) with [the 2021 IPEDS Institutional Characteristics data](https://nces.ed.gov/ipeds/datacenter/data/HD2021.zip) (the most recent available), I determine whether an awarded institution is an HBCU.\n",
                "\n",
                "I then filter the dataset to only consider other awards granted to Colleges and Universities. \n",
                "\n",
                "Then, I output the following key numbers and figures, both in aggregate and over time:\n",
                "\n",
                "- raw dollar amounts awarded to HBCUs and non-HBCUs\n",
                "- 2022 dollar amounts adjusted using the Bureau of Labor Statistics' annualized [Consumer Price Index averages](https://data.bls.gov/timeseries/CUUR0000SA0)\n",
                "- total number of grants awarded to HBCUs and non-HBCUs\n",
                "- odds ratios for HBCUs and non-HBCUs to receive a grant in a given decade, given prior awardees\n",
                "\n",
                "Code can be found on [the GitHub repository](https://github.com/erikfredner/neh-assessment) for this project and in the notebook below.\n",
                "\n",
                "Please note that, due to the small values involved, I have chosen to visualize the data using tables, as they make it easier to see and interpret the fine gradations of change."
            ]
        },
        {
            "cell_type": "markdown",
            "metadata": {},
            "source": [
                "## Key Findings\n",
                "\n",
                "Since 1965, the NEH has awarded **$47 billion in 2022 dollars** to colleges and universities. Of that total, **$1.06 billion (2.3%)** has been granted to historically Black colleges and universities (HBCUs). "
            ]
        },
        {
            "cell_type": "markdown",
            "metadata": {},
            "source": [
                "\n",
                "### NEH awarded a smaller proportion of grant dollars to HBCUs in the 2020s than in 1970s\n",
                "\n",
                "When he spoke at the National Cathedral on March 31, 1968, Martin Luther King, Jr. described a view that many Americans now hold when he said, \"the arc of the moral universe is long but it bends toward justice.\" If bending toward justice in this case might suggest an absolute and relative increase in funding for HBCUs to compensate for structural disinvestment, the data counterintuively show almost the *opposite* pattern. In the 1970s, when the NEH's budget was larger than it is today, HBCUs received almost 4% of dollars awarded. So far in the 2020s, they have recieved about 1.6% of the funding. If patterns from the 2010s hold, the 2020s will have total funding of about 30% of the 1970s levels. HBCUs have been receiving a smaller portion of a shrinking pie, though their share has been fairly consistent since the 1990s.\n",
                "\n",
                "|   Award Decade | HBCU Share of NEH Grant Dollars   |\n",
                "|---------------:|:----------------------------------|\n",
                "|           1960 | 3.9%                              |\n",
                "|           1970 | 2.7%                              |\n",
                "|           1980 | 2.6%                              |\n",
                "|           1990 | 1.6%                              |\n",
                "|           2000 | 1.8%                              |\n",
                "|           2010 | 1.5%                              |\n",
                "|           2020 | 1.6%                              |"
            ]
        },
        {
            "cell_type": "markdown",
            "metadata": {},
            "source": [
                "### NEH has granted a smaller proportion of its awards to HBCUs since the 1970s\n",
                "\n",
                "Perhaps, even if awards today are smaller, we might expect that *more* projects from HBCUs would be funded. This is not the case either, although the proportion of awards allocated is higher than the proportion of dollars awarded. Awards to HBCUs peaked in the 1960s when they made up 3.3% of total awards, and reached their lowest point in the 1990s at about 2.1%. In the 2020s, they have received about 2.4% of total awards.\n",
                "\n",
                "|   Award Decade | HBCU Share of NEH Awards   |\n",
                "|---------------:|:---------------------------|\n",
                "|           1960 | 3.3%                       |\n",
                "|           1970 | 2.2%                       |\n",
                "|           1980 | 3.1%                       |\n",
                "|           1990 | 2.1%                       |\n",
                "|           2000 | 2.8%                       |\n",
                "|           2010 | 2.2%                       |\n",
                "|           2020 | 2.4%                       |"
            ]
        },
        {
            "cell_type": "markdown",
            "metadata": {},
            "source": [
                "### The odds of any HBCU receiving an award have often substantially higher than the odds of any non-HBCU receiving an award\n",
                "\n",
                "Because there are a significantly smaller number of HBCUs than non-HBCUs, percentages can be misleading. Odds ratios account for such variation in absolute size among groups fairly robustly. They are also easy to calculate and reason about:\n",
                "\n",
                "$$\\frac{p_1/(1-p_1)}{p_2/(1-p_2)}$$\n",
                "\n",
                "In our case, $p_1$ represents the total number of HBCUs that received an NEH award in a given decade divided by the number of HBCUs that had *ever* received an NEH award up to that date. $p_2$ is the same as $p_1$, but for non-HBCUs. The odds ratios tells us how much more likely it is for any given HBCU to receive a grant than any given non-HBCU. In cases where the odds ratio is greater than 1, it is more likely for a given HBCU to receive an award in a decade than a given non-HBCU.\n",
                "\n",
                "Unlike the prior two key findings, which showed fairly consistent decline, odds ratios show a more complex picture. In the 1970s, a given HBCU had only about a 16% of receiving an award compared to non-HBCUs. Another way of saying this is that non-HBCUs were 1.84 times as likely to receive a grant as HBCUs. But in the 1980s, HBCUs had an astonishing 5.29 times greater chance of being selected than any given non-HBCU. Such huge fluctuations have stabilized more recently, with higher and lower odds ratios for these groups in alternate decades, and none so dramatic as the shift from the 1970s to the 1980s.\n",
                "\n",
                "|   Award Decade |   HBCU/CU Odds Ratio |\n",
                "|---------------:|---------------------:|\n",
                "|           1970 |                 0.16 |\n",
                "|           1980 |                 5.29 |\n",
                "|           1990 |                 2.27 |\n",
                "|           2000 |                 1.62 |\n",
                "|           2010 |                 0.98 |\n",
                "|           2020 |                 1.06 |"
            ]
        },
        {
            "cell_type": "markdown",
            "metadata": {},
            "source": [
                "### Summary\n",
                "\n",
                "It is surprising but true that HBCUs have received a consistently smaller relative share of the NEH's grants to colleges and universities since the 1970s. Less surprising but no less concerning is that they have also received a lower absolute number of dollars. A caveat to this point, however, is that, in some decades, HBCUs have had a significantly higher *chance* of receiving NEH awards than other colleges or universities that had previously won an NEH grant. Howeer, in the last two decades, those chances have become relatively even. This raises the question of whether even odds are *fair* odds.\n",
                "\n",
                "As decades of [reports by the National Endowment for the Arts](https://www.arts.gov/impact/research/publications?search_api_fulltext=survey+of+public+participation) have demonstrated, participation in artistic and humanitic activities (such as literary reading, which the NEA's reports also track) are strongly correlated with education, gender, income, and race (in roughly that order). One notion of equity policymakers could adopt would be reducing disparities in engagement with arts and humanities along these axes. NEH grantmaking could intervene in these areas, and increasing awards to HBCUs could be a part of a strategy of equity and repair."
            ]
        },
        {
            "cell_type": "markdown",
            "metadata": {},
            "source": [
                "## Limitations\n",
                "\n",
                "- This research demonstrates that, since the 1970s, NEH awards to HBCUs have been decreasing in absolute and relative terms as compared to other colleges and universities. However, it is a question of policy and institutional priorities as to what the *appropriate* level of funding would be.\n",
                "- This studies *institutional* awards, not the races or ethnicities of awardees directly. This work does not imply that the NEH's awards to HBCUs represent the totality of its giving to Black scholars or Black institutions.\n",
                "- IPEDs table does *not* include open date for colleges and universities, so odds ratios are calculated based on the proportion of all Colleges and Universities (HBCU or non-HBCU) that *had ever received an award from the NEH up to that decade* as compared to the the actual number of institutions awarded in a given year. This may erroneously assume that institutions that previously won awards did not cease operations (or rename themselves) in the interim."
            ]
        },
        {
            "cell_type": "markdown",
            "metadata": {},
            "source": [
                "# Data Preparation"
            ]
        },
        {
            "cell_type": "code",
            "execution_count": 1,
            "metadata": {},
            "outputs": [],
            "source": [
                "import os\n",
                "import pandas as pd\n",
                "from rapidfuzz import fuzz, process, utils"
            ]
        },
        {
            "cell_type": "code",
            "execution_count": 2,
            "metadata": {},
            "outputs": [],
            "source": [
                "data_dir = \"/Users/erik/code/neh-assessment/data\""
            ]
        },
        {
            "cell_type": "code",
            "execution_count": 3,
            "metadata": {},
            "outputs": [],
            "source": [
                "# get decadal xml files\n",
                "xml_files = []\n",
                "\n",
                "for root, dirs, files in os.walk(data_dir):\n",
                "    for file in files:\n",
                "        if file.endswith(\".xml\"):\n",
                "            xml_files.append(os.path.join(root, file))"
            ]
        },
        {
            "cell_type": "code",
            "execution_count": 4,
            "metadata": {},
            "outputs": [],
            "source": [
                "# concatenate decadal xml files into one dataframe\n",
                "l = list()\n",
                "\n",
                "for file in xml_files:\n",
                "    l.append(pd.read_xml(file))"
            ]
        },
        {
            "cell_type": "code",
            "execution_count": 5,
            "metadata": {},
            "outputs": [],
            "source": [
                "df = pd.concat(l)"
            ]
        },
        {
            "cell_type": "code",
            "execution_count": 6,
            "metadata": {},
            "outputs": [],
            "source": [
                "# subset df for needed columns\n",
                "cols = [\n",
                "    \"AppNumber\",\n",
                "    \"ApplicantType\",\n",
                "    \"Institution\",\n",
                "    \"OrganizationType\",\n",
                "    \"InstPostalCode\",\n",
                "    \"InstCountry\",\n",
                "    \"Latitude\",\n",
                "    \"Longitude\",\n",
                "    \"YearAwarded\",\n",
                "    \"Program\",\n",
                "    \"Division\",\n",
                "    \"AwardOutright\",\n",
                "    \"AwardMatching\",\n",
                "    \"SupplementAmount\",\n",
                "    \"PrimaryDiscipline\",\n",
                "    \"ParticipantCount\",\n",
                "]"
            ]
        },
        {
            "cell_type": "code",
            "execution_count": 7,
            "metadata": {},
            "outputs": [],
            "source": [
                "df = df[cols].copy()"
            ]
        },
        {
            "cell_type": "code",
            "execution_count": 8,
            "metadata": {},
            "outputs": [],
            "source": [
                "# calculate total awarded by NEH\n",
                "df[\"total_award\"] = df[\"AwardOutright\"] + df[\"AwardMatching\"] + df[\"SupplementAmount\"]"
            ]
        },
        {
            "cell_type": "code",
            "execution_count": 9,
            "metadata": {},
            "outputs": [],
            "source": [
                "# calculate total award in 2022 dollars\n",
                "cpi = pd.read_csv(\"/Users/erik/code/neh-assessment/data/cpi average.csv\")\n",
                "cpi_2022 = 292.655\n",
                "awards = df[[\"AppNumber\", \"YearAwarded\", \"total_award\"]].copy()"
            ]
        },
        {
            "cell_type": "code",
            "execution_count": 10,
            "metadata": {},
            "outputs": [],
            "source": [
                "awards = pd.merge(awards, cpi, left_on=\"YearAwarded\", right_on=\"cpi_year\", how=\"outer\")"
            ]
        },
        {
            "cell_type": "code",
            "execution_count": 11,
            "metadata": {},
            "outputs": [],
            "source": [
                "awards[\"total_award_2022\"] = round(\n",
                "    awards[\"total_award\"] * (cpi_2022 / awards[\"cpi_annual_avg\"]), 2\n",
                ")"
            ]
        },
        {
            "cell_type": "code",
            "execution_count": 12,
            "metadata": {},
            "outputs": [],
            "source": [
                "df = df.merge(awards[[\"AppNumber\", \"total_award_2022\"]], on=\"AppNumber\")"
            ]
        },
        {
            "cell_type": "code",
            "execution_count": 13,
            "metadata": {},
            "outputs": [],
            "source": [
                "# add decade\n",
                "df[\"award_decade\"] = (df[\"YearAwarded\"] // 10) * 10"
            ]
        },
        {
            "cell_type": "code",
            "execution_count": 14,
            "metadata": {},
            "outputs": [],
            "source": [
                "# filter for US awardees and nonzero awards\n",
                "df = df[(df[\"InstCountry\"] == \"USA\") & (df[\"total_award\"] > 0)]"
            ]
        },
        {
            "cell_type": "code",
            "execution_count": 15,
            "metadata": {},
            "outputs": [],
            "source": [
                "# filter for colleges and universities\n",
                "orgtypes = [\n",
                "    \"Four-Year College\",\n",
                "    \"University\",\n",
                "    \"Two-Year College\",\n",
                "]\n",
                "\n",
                "df = df[df[\"OrganizationType\"].isin(orgtypes)]"
            ]
        },
        {
            "cell_type": "code",
            "execution_count": 16,
            "metadata": {},
            "outputs": [
                {
                    "data": {
                        "text/plain": [
                            "(32538, 19)"
                        ]
                    },
                    "execution_count": 16,
                    "metadata": {},
                    "output_type": "execute_result"
                }
            ],
            "source": [
                "df.shape"
            ]
        },
        {
            "cell_type": "code",
            "execution_count": 17,
            "metadata": {},
            "outputs": [],
            "source": [
                "# import the IPEDs data\n",
                "ipeds = pd.read_csv(\n",
                "    \"/Users/erik/code/neh-assessment/data/hd2021.csv\", encoding=\"latin-1\"\n",
                ")"
            ]
        },
        {
            "cell_type": "code",
            "execution_count": 18,
            "metadata": {},
            "outputs": [],
            "source": [
                "# subset for needed cols\n",
                "cols = [\n",
                "    \"UNITID\",\n",
                "    \"INSTNM\",\n",
                "    \"IALIAS\",\n",
                "    \"ZIP\",\n",
                "    \"SECTOR\",\n",
                "    \"DEGGRANT\",\n",
                "    \"HBCU\",\n",
                "    \"TRIBAL\",\n",
                "    \"LOCALE\",\n",
                "    \"DEATHYR\",\n",
                "    \"CARNEGIE\",\n",
                "    \"LANDGRNT\",\n",
                "    \"INSTSIZE\",\n",
                "    \"LONGITUD\",\n",
                "    \"LATITUDE\",\n",
                "]"
            ]
        },
        {
            "cell_type": "code",
            "execution_count": 19,
            "metadata": {},
            "outputs": [],
            "source": [
                "ipeds = ipeds[cols].copy()"
            ]
        },
        {
            "cell_type": "code",
            "execution_count": 20,
            "metadata": {},
            "outputs": [],
            "source": [
                "# tables with hbcu names + ipeds id\n",
                "hbcus = ipeds[ipeds[\"HBCU\"] == 1][[\"UNITID\", \"INSTNM\"]].copy()\n",
                "# table with df names + neh id\n",
                "neh_insts = df[[\"AppNumber\", \"Institution\"]].copy()"
            ]
        },
        {
            "cell_type": "code",
            "execution_count": 21,
            "metadata": {},
            "outputs": [],
            "source": [
                "def get_inst_app_numbers(df, inst):\n",
                "    \"\"\"Get a list of app numbers associated with an institution.\"\"\"\n",
                "    return df[df[\"Institution\"] == inst][\"AppNumber\"].tolist()"
            ]
        },
        {
            "cell_type": "code",
            "execution_count": 22,
            "metadata": {},
            "outputs": [],
            "source": [
                "l = list()\n",
                "\n",
                "for index, row in hbcus.iterrows():\n",
                "    match = process.extractOne(\n",
                "        row[\"INSTNM\"],\n",
                "        neh_insts[\"Institution\"].unique(),\n",
                "        scorer=fuzz.ratio,\n",
                "        processor=utils.default_process,\n",
                "    )\n",
                "    score = match[1]\n",
                "    if score >= 95:  # manually reviewed results and scores < 95 were inaccurate\n",
                "        match_neh_AppNumbers = get_inst_app_numbers(neh_insts, match[0])\n",
                "        for app in match_neh_AppNumbers:\n",
                "            d = dict()\n",
                "            d[\"hbcu\"] = row[\"INSTNM\"]\n",
                "            d[\"hbcu_ipeds_UNITID\"] = row[\"UNITID\"]\n",
                "            d[\"match\"] = match[0]\n",
                "            d[\"match_neh_AppNumber\"] = app\n",
                "            d[\"score\"] = match[1]\n",
                "            l.append(d)"
            ]
        },
        {
            "cell_type": "code",
            "execution_count": 23,
            "metadata": {},
            "outputs": [],
            "source": [
                "matches = pd.DataFrame(l)"
            ]
        },
        {
            "cell_type": "code",
            "execution_count": 24,
            "metadata": {},
            "outputs": [
                {
                    "data": {
                        "text/plain": [
                            "(820, 5)"
                        ]
                    },
                    "execution_count": 24,
                    "metadata": {},
                    "output_type": "execute_result"
                }
            ],
            "source": [
                "matches.shape"
            ]
        },
        {
            "cell_type": "code",
            "execution_count": 25,
            "metadata": {},
            "outputs": [],
            "source": [
                "# apply matches to df\n",
                "df[\"is_hbcu\"] = df[\"AppNumber\"].isin(matches[\"match_neh_AppNumber\"])"
            ]
        },
        {
            "cell_type": "code",
            "execution_count": 26,
            "metadata": {},
            "outputs": [
                {
                    "data": {
                        "text/plain": [
                            "(32538, 20)"
                        ]
                    },
                    "execution_count": 26,
                    "metadata": {},
                    "output_type": "execute_result"
                }
            ],
            "source": [
                "df.shape"
            ]
        },
        {
            "cell_type": "markdown",
            "metadata": {},
            "source": [
                "# Findings\n",
                "\n",
                "## Complete dataset, 1965-Present"
            ]
        },
        {
            "cell_type": "code",
            "execution_count": 27,
            "metadata": {},
            "outputs": [
                {
                    "name": "stdout",
                    "output_type": "stream",
                    "text": [
                        "Total NEH awards granted to colleges and universities: 32538\n"
                    ]
                }
            ],
            "source": [
                "total_awards = df.shape[0]\n",
                "print(f\"Total NEH awards granted to colleges and universities: {total_awards}\")"
            ]
        },
        {
            "cell_type": "code",
            "execution_count": 28,
            "metadata": {},
            "outputs": [
                {
                    "name": "stdout",
                    "output_type": "stream",
                    "text": [
                        "Total NEH awards granted to historically Black colleges and universities (HBCUs): 820\n"
                    ]
                }
            ],
            "source": [
                "hbcu_awards = df[df[\"is_hbcu\"] == True].shape[0]\n",
                "print(\n",
                "    f\"Total NEH awards granted to historically Black colleges and universities (HBCUs): {hbcu_awards}\"\n",
                ")"
            ]
        },
        {
            "cell_type": "code",
            "execution_count": 29,
            "metadata": {},
            "outputs": [
                {
                    "name": "stdout",
                    "output_type": "stream",
                    "text": [
                        "Awards to HBCUs as a percentage of total awards: 2.52%\n"
                    ]
                }
            ],
            "source": [
                "print(\n",
                "    f\"Awards to HBCUs as a percentage of total awards: {round((hbcu_awards / total_awards) * 100, 2)}%\"\n",
                ")"
            ]
        },
        {
            "cell_type": "code",
            "execution_count": 30,
            "metadata": {},
            "outputs": [
                {
                    "name": "stdout",
                    "output_type": "stream",
                    "text": [
                        "Total NEH dollars awarded to colleges and universities in millions of 2022 dollars: $4696.78M\n"
                    ]
                }
            ],
            "source": [
                "total_2022 = round(df[\"total_award_2022\"].sum() / 1000000, 2)\n",
                "print(\n",
                "    f\"Total NEH dollars awarded to colleges and universities in millions of 2022 dollars: ${total_2022}M\"\n",
                ")"
            ]
        },
        {
            "cell_type": "code",
            "execution_count": 31,
            "metadata": {},
            "outputs": [
                {
                    "name": "stdout",
                    "output_type": "stream",
                    "text": [
                        "Total NEH dollars awarded to HBCUs in millions of 2022 dollars: $105.86M\n"
                    ]
                }
            ],
            "source": [
                "total_hbcu_2022 = round(\n",
                "    df[df[\"is_hbcu\"] == True][\"total_award_2022\"].sum() / 1000000, 2\n",
                ")\n",
                "print(\n",
                "    f\"Total NEH dollars awarded to HBCUs in millions of 2022 dollars: ${total_hbcu_2022}M\"\n",
                ")"
            ]
        },
        {
            "cell_type": "code",
            "execution_count": 32,
            "metadata": {},
            "outputs": [
                {
                    "name": "stdout",
                    "output_type": "stream",
                    "text": [
                        "NEH dollars awarded to HBCUs as a percentage of total NEH dollars awarded to colleges and universities: 2.25%\n"
                    ]
                }
            ],
            "source": [
                "hbcu_total_2022 = round((total_hbcu_2022 / total_2022) * 100, 2)\n",
                "print(\n",
                "    f\"NEH dollars awarded to HBCUs as a percentage of total NEH dollars awarded to colleges and universities: {hbcu_total_2022}%\"\n",
                ")"
            ]
        },
        {
            "cell_type": "markdown",
            "metadata": {},
            "source": [
                "## Decadal data\n",
                "\n",
                "### Total dollars awarded"
            ]
        },
        {
            "cell_type": "code",
            "execution_count": 33,
            "metadata": {},
            "outputs": [],
            "source": [
                "cols = [\n",
                "    \"total_award_2022\",\n",
                "    \"is_hbcu\",\n",
                "    \"award_decade\",\n",
                "]"
            ]
        },
        {
            "cell_type": "code",
            "execution_count": 34,
            "metadata": {},
            "outputs": [],
            "source": [
                "award_total_decade = (\n",
                "    df[[\"award_decade\", \"total_award_2022\"]].groupby(\"award_decade\").sum()\n",
                ")"
            ]
        },
        {
            "cell_type": "code",
            "execution_count": 35,
            "metadata": {},
            "outputs": [
                {
                    "data": {
                        "text/html": [
                            "<div>\n",
                            "<style scoped>\n",
                            "    .dataframe tbody tr th:only-of-type {\n",
                            "        vertical-align: middle;\n",
                            "    }\n",
                            "\n",
                            "    .dataframe tbody tr th {\n",
                            "        vertical-align: top;\n",
                            "    }\n",
                            "\n",
                            "    .dataframe thead th {\n",
                            "        text-align: right;\n",
                            "    }\n",
                            "</style>\n",
                            "<table border=\"1\" class=\"dataframe\">\n",
                            "  <thead>\n",
                            "    <tr style=\"text-align: right;\">\n",
                            "      <th></th>\n",
                            "      <th>total_award_2022</th>\n",
                            "    </tr>\n",
                            "    <tr>\n",
                            "      <th>award_decade</th>\n",
                            "      <th></th>\n",
                            "    </tr>\n",
                            "  </thead>\n",
                            "  <tbody>\n",
                            "    <tr>\n",
                            "      <th>1960</th>\n",
                            "      <td>0.037303</td>\n",
                            "    </tr>\n",
                            "    <tr>\n",
                            "      <th>1970</th>\n",
                            "      <td>1.000000</td>\n",
                            "    </tr>\n",
                            "    <tr>\n",
                            "      <th>1980</th>\n",
                            "      <td>0.773403</td>\n",
                            "    </tr>\n",
                            "    <tr>\n",
                            "      <th>1990</th>\n",
                            "      <td>0.574490</td>\n",
                            "    </tr>\n",
                            "    <tr>\n",
                            "      <th>2000</th>\n",
                            "      <td>0.354982</td>\n",
                            "    </tr>\n",
                            "    <tr>\n",
                            "      <th>2010</th>\n",
                            "      <td>0.304168</td>\n",
                            "    </tr>\n",
                            "    <tr>\n",
                            "      <th>2020</th>\n",
                            "      <td>0.110916</td>\n",
                            "    </tr>\n",
                            "  </tbody>\n",
                            "</table>\n",
                            "</div>"
                        ],
                        "text/plain": [
                            "              total_award_2022\n",
                            "award_decade                  \n",
                            "1960                  0.037303\n",
                            "1970                  1.000000\n",
                            "1980                  0.773403\n",
                            "1990                  0.574490\n",
                            "2000                  0.354982\n",
                            "2010                  0.304168\n",
                            "2020                  0.110916"
                        ]
                    },
                    "execution_count": 35,
                    "metadata": {},
                    "output_type": "execute_result"
                }
            ],
            "source": [
                "# decadal NEH grants awarded relative to 1970s levels\n",
                "award_total_decade / award_total_decade.loc[1970]"
            ]
        },
        {
            "cell_type": "code",
            "execution_count": 36,
            "metadata": {},
            "outputs": [
                {
                    "data": {
                        "text/html": [
                            "<div>\n",
                            "<style scoped>\n",
                            "    .dataframe tbody tr th:only-of-type {\n",
                            "        vertical-align: middle;\n",
                            "    }\n",
                            "\n",
                            "    .dataframe tbody tr th {\n",
                            "        vertical-align: top;\n",
                            "    }\n",
                            "\n",
                            "    .dataframe thead th {\n",
                            "        text-align: right;\n",
                            "    }\n",
                            "</style>\n",
                            "<table border=\"1\" class=\"dataframe\">\n",
                            "  <thead>\n",
                            "    <tr style=\"text-align: right;\">\n",
                            "      <th></th>\n",
                            "      <th></th>\n",
                            "      <th>total_award_2022</th>\n",
                            "    </tr>\n",
                            "    <tr>\n",
                            "      <th>award_decade</th>\n",
                            "      <th>is_hbcu</th>\n",
                            "      <th></th>\n",
                            "    </tr>\n",
                            "  </thead>\n",
                            "  <tbody>\n",
                            "    <tr>\n",
                            "      <th rowspan=\"2\" valign=\"top\">1960</th>\n",
                            "      <th>False</th>\n",
                            "      <td>5.335124e+07</td>\n",
                            "    </tr>\n",
                            "    <tr>\n",
                            "      <th>True</th>\n",
                            "      <td>2.175669e+06</td>\n",
                            "    </tr>\n",
                            "    <tr>\n",
                            "      <th rowspan=\"2\" valign=\"top\">1970</th>\n",
                            "      <th>False</th>\n",
                            "      <td>1.447683e+09</td>\n",
                            "    </tr>\n",
                            "    <tr>\n",
                            "      <th>True</th>\n",
                            "      <td>4.087252e+07</td>\n",
                            "    </tr>\n",
                            "    <tr>\n",
                            "      <th rowspan=\"2\" valign=\"top\">1980</th>\n",
                            "      <th>False</th>\n",
                            "      <td>1.120850e+09</td>\n",
                            "    </tr>\n",
                            "    <tr>\n",
                            "      <th>True</th>\n",
                            "      <td>3.040325e+07</td>\n",
                            "    </tr>\n",
                            "    <tr>\n",
                            "      <th rowspan=\"2\" valign=\"top\">1990</th>\n",
                            "      <th>False</th>\n",
                            "      <td>8.414105e+08</td>\n",
                            "    </tr>\n",
                            "    <tr>\n",
                            "      <th>True</th>\n",
                            "      <td>1.374908e+07</td>\n",
                            "    </tr>\n",
                            "    <tr>\n",
                            "      <th rowspan=\"2\" valign=\"top\">2000</th>\n",
                            "      <th>False</th>\n",
                            "      <td>5.190240e+08</td>\n",
                            "    </tr>\n",
                            "    <tr>\n",
                            "      <th>True</th>\n",
                            "      <td>9.386863e+06</td>\n",
                            "    </tr>\n",
                            "    <tr>\n",
                            "      <th rowspan=\"2\" valign=\"top\">2010</th>\n",
                            "      <th>False</th>\n",
                            "      <td>4.461081e+08</td>\n",
                            "    </tr>\n",
                            "    <tr>\n",
                            "      <th>True</th>\n",
                            "      <td>6.662556e+06</td>\n",
                            "    </tr>\n",
                            "    <tr>\n",
                            "      <th rowspan=\"2\" valign=\"top\">2020</th>\n",
                            "      <th>False</th>\n",
                            "      <td>1.624918e+08</td>\n",
                            "    </tr>\n",
                            "    <tr>\n",
                            "      <th>True</th>\n",
                            "      <td>2.613261e+06</td>\n",
                            "    </tr>\n",
                            "  </tbody>\n",
                            "</table>\n",
                            "</div>"
                        ],
                        "text/plain": [
                            "                      total_award_2022\n",
                            "award_decade is_hbcu                  \n",
                            "1960         False        5.335124e+07\n",
                            "             True         2.175669e+06\n",
                            "1970         False        1.447683e+09\n",
                            "             True         4.087252e+07\n",
                            "1980         False        1.120850e+09\n",
                            "             True         3.040325e+07\n",
                            "1990         False        8.414105e+08\n",
                            "             True         1.374908e+07\n",
                            "2000         False        5.190240e+08\n",
                            "             True         9.386863e+06\n",
                            "2010         False        4.461081e+08\n",
                            "             True         6.662556e+06\n",
                            "2020         False        1.624918e+08\n",
                            "             True         2.613261e+06"
                        ]
                    },
                    "execution_count": 36,
                    "metadata": {},
                    "output_type": "execute_result"
                }
            ],
            "source": [
                "df[cols].groupby([\"award_decade\", \"is_hbcu\"]).sum()"
            ]
        },
        {
            "cell_type": "code",
            "execution_count": 37,
            "metadata": {},
            "outputs": [
                {
                    "data": {
                        "text/plain": [
                            "<Axes: xlabel='award_decade'>"
                        ]
                    },
                    "execution_count": 37,
                    "metadata": {},
                    "output_type": "execute_result"
                },
                {
                    "data": {
                        "image/png": "[encoded data removed]",
                        "text/plain": [
                            "<Figure size 640x480 with 1 Axes>"
                        ]
                    },
                    "metadata": {},
                    "output_type": "display_data"
                }
            ],
            "source": [
                "df[cols].groupby([\"award_decade\", \"is_hbcu\"]).sum().unstack().plot(\n",
                "    kind=\"bar\", stacked=True\n",
                ")"
            ]
        },
        {
            "cell_type": "code",
            "execution_count": 38,
            "metadata": {},
            "outputs": [
                {
                    "data": {
                        "text/html": [
                            "<div>\n",
                            "<style scoped>\n",
                            "    .dataframe tbody tr th:only-of-type {\n",
                            "        vertical-align: middle;\n",
                            "    }\n",
                            "\n",
                            "    .dataframe tbody tr th {\n",
                            "        vertical-align: top;\n",
                            "    }\n",
                            "\n",
                            "    .dataframe thead th {\n",
                            "        text-align: right;\n",
                            "    }\n",
                            "</style>\n",
                            "<table border=\"1\" class=\"dataframe\">\n",
                            "  <thead>\n",
                            "    <tr style=\"text-align: right;\">\n",
                            "      <th></th>\n",
                            "      <th></th>\n",
                            "      <th>total_award_2022</th>\n",
                            "    </tr>\n",
                            "    <tr>\n",
                            "      <th>award_decade</th>\n",
                            "      <th>is_hbcu</th>\n",
                            "      <th></th>\n",
                            "    </tr>\n",
                            "  </thead>\n",
                            "  <tbody>\n",
                            "    <tr>\n",
                            "      <th rowspan=\"2\" valign=\"top\">1960</th>\n",
                            "      <th>False</th>\n",
                            "      <td>0.960818</td>\n",
                            "    </tr>\n",
                            "    <tr>\n",
                            "      <th>True</th>\n",
                            "      <td>0.039182</td>\n",
                            "    </tr>\n",
                            "    <tr>\n",
                            "      <th rowspan=\"2\" valign=\"top\">1970</th>\n",
                            "      <th>False</th>\n",
                            "      <td>0.972542</td>\n",
                            "    </tr>\n",
                            "    <tr>\n",
                            "      <th>True</th>\n",
                            "      <td>0.027458</td>\n",
                            "    </tr>\n",
                            "    <tr>\n",
                            "      <th rowspan=\"2\" valign=\"top\">1980</th>\n",
                            "      <th>False</th>\n",
                            "      <td>0.973591</td>\n",
                            "    </tr>\n",
                            "    <tr>\n",
                            "      <th>True</th>\n",
                            "      <td>0.026409</td>\n",
                            "    </tr>\n",
                            "    <tr>\n",
                            "      <th rowspan=\"2\" valign=\"top\">1990</th>\n",
                            "      <th>False</th>\n",
                            "      <td>0.983922</td>\n",
                            "    </tr>\n",
                            "    <tr>\n",
                            "      <th>True</th>\n",
                            "      <td>0.016078</td>\n",
                            "    </tr>\n",
                            "    <tr>\n",
                            "      <th rowspan=\"2\" valign=\"top\">2000</th>\n",
                            "      <th>False</th>\n",
                            "      <td>0.982236</td>\n",
                            "    </tr>\n",
                            "    <tr>\n",
                            "      <th>True</th>\n",
                            "      <td>0.017764</td>\n",
                            "    </tr>\n",
                            "    <tr>\n",
                            "      <th rowspan=\"2\" valign=\"top\">2010</th>\n",
                            "      <th>False</th>\n",
                            "      <td>0.985285</td>\n",
                            "    </tr>\n",
                            "    <tr>\n",
                            "      <th>True</th>\n",
                            "      <td>0.014715</td>\n",
                            "    </tr>\n",
                            "    <tr>\n",
                            "      <th rowspan=\"2\" valign=\"top\">2020</th>\n",
                            "      <th>False</th>\n",
                            "      <td>0.984172</td>\n",
                            "    </tr>\n",
                            "    <tr>\n",
                            "      <th>True</th>\n",
                            "      <td>0.015828</td>\n",
                            "    </tr>\n",
                            "  </tbody>\n",
                            "</table>\n",
                            "</div>"
                        ],
                        "text/plain": [
                            "                      total_award_2022\n",
                            "award_decade is_hbcu                  \n",
                            "1960         False            0.960818\n",
                            "             True             0.039182\n",
                            "1970         False            0.972542\n",
                            "             True             0.027458\n",
                            "1980         False            0.973591\n",
                            "             True             0.026409\n",
                            "1990         False            0.983922\n",
                            "             True             0.016078\n",
                            "2000         False            0.982236\n",
                            "             True             0.017764\n",
                            "2010         False            0.985285\n",
                            "             True             0.014715\n",
                            "2020         False            0.984172\n",
                            "             True             0.015828"
                        ]
                    },
                    "execution_count": 38,
                    "metadata": {},
                    "output_type": "execute_result"
                }
            ],
            "source": [
                "df[cols].groupby([\"award_decade\", \"is_hbcu\"]).sum().divide(\n",
                "    award_total_decade, level=\"award_decade\"\n",
                ")"
            ]
        },
        {
            "cell_type": "code",
            "execution_count": 39,
            "metadata": {},
            "outputs": [
                {
                    "name": "stdout",
                    "output_type": "stream",
                    "text": [
                        "|   Award Decade | HBCU Share of NEH Grant Dollars   |\n",
                        "|---------------:|:----------------------------------|\n",
                        "|           1960 | 3.9%                              |\n",
                        "|           1970 | 2.7%                              |\n",
                        "|           1980 | 2.6%                              |\n",
                        "|           1990 | 1.6%                              |\n",
                        "|           2000 | 1.8%                              |\n",
                        "|           2010 | 1.5%                              |\n",
                        "|           2020 | 1.6%                              |\n"
                    ]
                }
            ],
            "source": [
                "# make table for the write-up\n",
                "t = df[cols].groupby([\"award_decade\", \"is_hbcu\"]).sum().divide(\n",
                "    award_total_decade, level=\"award_decade\"\n",
                ")\n",
                "t.reset_index(inplace=True)\n",
                "t = t[t['is_hbcu']==True][['award_decade', 'total_award_2022']]\n",
                "t['total_award_2022'] = t['total_award_2022'].apply(lambda x: f\"{round(x*100, 1)}%\")\n",
                "t.columns = ['Award Decade', 'HBCU Share of NEH Grant Dollars']\n",
                "t.set_index('Award Decade', inplace=True)\n",
                "print(t.to_markdown())"
            ]
        },
        {
            "cell_type": "code",
            "execution_count": 40,
            "metadata": {},
            "outputs": [
                {
                    "data": {
                        "text/plain": [
                            "<Axes: xlabel='award_decade'>"
                        ]
                    },
                    "execution_count": 40,
                    "metadata": {},
                    "output_type": "execute_result"
                },
                {
                    "data": {
                        "image/png": "[encoded data removed]",
                        "text/plain": [
                            "<Figure size 640x480 with 1 Axes>"
                        ]
                    },
                    "metadata": {},
                    "output_type": "display_data"
                }
            ],
            "source": [
                "df[cols].groupby([\"award_decade\", \"is_hbcu\"]).sum().divide(\n",
                "    award_total_decade, level=\"award_decade\"\n",
                ").unstack().plot(kind=\"bar\", stacked=True)"
            ]
        },
        {
            "cell_type": "markdown",
            "metadata": {},
            "source": [
                "### Total awards granted"
            ]
        },
        {
            "cell_type": "code",
            "execution_count": 41,
            "metadata": {},
            "outputs": [
                {
                    "data": {
                        "text/html": [
                            "<div>\n",
                            "<style scoped>\n",
                            "    .dataframe tbody tr th:only-of-type {\n",
                            "        vertical-align: middle;\n",
                            "    }\n",
                            "\n",
                            "    .dataframe tbody tr th {\n",
                            "        vertical-align: top;\n",
                            "    }\n",
                            "\n",
                            "    .dataframe thead th {\n",
                            "        text-align: right;\n",
                            "    }\n",
                            "</style>\n",
                            "<table border=\"1\" class=\"dataframe\">\n",
                            "  <thead>\n",
                            "    <tr style=\"text-align: right;\">\n",
                            "      <th></th>\n",
                            "      <th>AppNumber</th>\n",
                            "    </tr>\n",
                            "    <tr>\n",
                            "      <th>award_decade</th>\n",
                            "      <th></th>\n",
                            "    </tr>\n",
                            "  </thead>\n",
                            "  <tbody>\n",
                            "    <tr>\n",
                            "      <th>1960</th>\n",
                            "      <td>698</td>\n",
                            "    </tr>\n",
                            "    <tr>\n",
                            "      <th>1970</th>\n",
                            "      <td>8154</td>\n",
                            "    </tr>\n",
                            "    <tr>\n",
                            "      <th>1980</th>\n",
                            "      <td>7982</td>\n",
                            "    </tr>\n",
                            "    <tr>\n",
                            "      <th>1990</th>\n",
                            "      <td>5546</td>\n",
                            "    </tr>\n",
                            "    <tr>\n",
                            "      <th>2000</th>\n",
                            "      <td>4567</td>\n",
                            "    </tr>\n",
                            "    <tr>\n",
                            "      <th>2010</th>\n",
                            "      <td>3982</td>\n",
                            "    </tr>\n",
                            "    <tr>\n",
                            "      <th>2020</th>\n",
                            "      <td>1609</td>\n",
                            "    </tr>\n",
                            "  </tbody>\n",
                            "</table>\n",
                            "</div>"
                        ],
                        "text/plain": [
                            "              AppNumber\n",
                            "award_decade           \n",
                            "1960                698\n",
                            "1970               8154\n",
                            "1980               7982\n",
                            "1990               5546\n",
                            "2000               4567\n",
                            "2010               3982\n",
                            "2020               1609"
                        ]
                    },
                    "execution_count": 41,
                    "metadata": {},
                    "output_type": "execute_result"
                }
            ],
            "source": [
                "# number of awards granted to colleges and universities by decade\n",
                "awards_per_decade = df[[\"award_decade\", \"AppNumber\"]].groupby(\"award_decade\").count()\n",
                "awards_per_decade"
            ]
        },
        {
            "cell_type": "code",
            "execution_count": 42,
            "metadata": {},
            "outputs": [
                {
                    "data": {
                        "text/html": [
                            "<div>\n",
                            "<style scoped>\n",
                            "    .dataframe tbody tr th:only-of-type {\n",
                            "        vertical-align: middle;\n",
                            "    }\n",
                            "\n",
                            "    .dataframe tbody tr th {\n",
                            "        vertical-align: top;\n",
                            "    }\n",
                            "\n",
                            "    .dataframe thead th {\n",
                            "        text-align: right;\n",
                            "    }\n",
                            "</style>\n",
                            "<table border=\"1\" class=\"dataframe\">\n",
                            "  <thead>\n",
                            "    <tr style=\"text-align: right;\">\n",
                            "      <th></th>\n",
                            "      <th></th>\n",
                            "      <th>AppNumber</th>\n",
                            "    </tr>\n",
                            "    <tr>\n",
                            "      <th>award_decade</th>\n",
                            "      <th>is_hbcu</th>\n",
                            "      <th></th>\n",
                            "    </tr>\n",
                            "  </thead>\n",
                            "  <tbody>\n",
                            "    <tr>\n",
                            "      <th rowspan=\"2\" valign=\"top\">1960</th>\n",
                            "      <th>False</th>\n",
                            "      <td>675</td>\n",
                            "    </tr>\n",
                            "    <tr>\n",
                            "      <th>True</th>\n",
                            "      <td>23</td>\n",
                            "    </tr>\n",
                            "    <tr>\n",
                            "      <th rowspan=\"2\" valign=\"top\">1970</th>\n",
                            "      <th>False</th>\n",
                            "      <td>7974</td>\n",
                            "    </tr>\n",
                            "    <tr>\n",
                            "      <th>True</th>\n",
                            "      <td>180</td>\n",
                            "    </tr>\n",
                            "    <tr>\n",
                            "      <th rowspan=\"2\" valign=\"top\">1980</th>\n",
                            "      <th>False</th>\n",
                            "      <td>7734</td>\n",
                            "    </tr>\n",
                            "    <tr>\n",
                            "      <th>True</th>\n",
                            "      <td>248</td>\n",
                            "    </tr>\n",
                            "    <tr>\n",
                            "      <th rowspan=\"2\" valign=\"top\">1990</th>\n",
                            "      <th>False</th>\n",
                            "      <td>5429</td>\n",
                            "    </tr>\n",
                            "    <tr>\n",
                            "      <th>True</th>\n",
                            "      <td>117</td>\n",
                            "    </tr>\n",
                            "    <tr>\n",
                            "      <th rowspan=\"2\" valign=\"top\">2000</th>\n",
                            "      <th>False</th>\n",
                            "      <td>4440</td>\n",
                            "    </tr>\n",
                            "    <tr>\n",
                            "      <th>True</th>\n",
                            "      <td>127</td>\n",
                            "    </tr>\n",
                            "    <tr>\n",
                            "      <th rowspan=\"2\" valign=\"top\">2010</th>\n",
                            "      <th>False</th>\n",
                            "      <td>3895</td>\n",
                            "    </tr>\n",
                            "    <tr>\n",
                            "      <th>True</th>\n",
                            "      <td>87</td>\n",
                            "    </tr>\n",
                            "    <tr>\n",
                            "      <th rowspan=\"2\" valign=\"top\">2020</th>\n",
                            "      <th>False</th>\n",
                            "      <td>1571</td>\n",
                            "    </tr>\n",
                            "    <tr>\n",
                            "      <th>True</th>\n",
                            "      <td>38</td>\n",
                            "    </tr>\n",
                            "  </tbody>\n",
                            "</table>\n",
                            "</div>"
                        ],
                        "text/plain": [
                            "                      AppNumber\n",
                            "award_decade is_hbcu           \n",
                            "1960         False          675\n",
                            "             True            23\n",
                            "1970         False         7974\n",
                            "             True           180\n",
                            "1980         False         7734\n",
                            "             True           248\n",
                            "1990         False         5429\n",
                            "             True           117\n",
                            "2000         False         4440\n",
                            "             True           127\n",
                            "2010         False         3895\n",
                            "             True            87\n",
                            "2020         False         1571\n",
                            "             True            38"
                        ]
                    },
                    "execution_count": 42,
                    "metadata": {},
                    "output_type": "execute_result"
                }
            ],
            "source": [
                "df[[\"award_decade\", \"AppNumber\", \"is_hbcu\"]].groupby(\n",
                "    [\"award_decade\", \"is_hbcu\"]\n",
                ").count()"
            ]
        },
        {
            "cell_type": "code",
            "execution_count": 43,
            "metadata": {},
            "outputs": [
                {
                    "data": {
                        "text/plain": [
                            "<Axes: xlabel='award_decade'>"
                        ]
                    },
                    "execution_count": 43,
                    "metadata": {},
                    "output_type": "execute_result"
                },
                {
                    "data": {
                        "image/png": "[encoded data removed]",
                        "text/plain": [
                            "<Figure size 640x480 with 1 Axes>"
                        ]
                    },
                    "metadata": {},
                    "output_type": "display_data"
                }
            ],
            "source": [
                "# number of awards granted to colleges and universities by decade\n",
                "df[[\"award_decade\", \"AppNumber\", \"is_hbcu\"]].groupby(\n",
                "    [\"award_decade\", \"is_hbcu\"]\n",
                ").count().unstack().plot(kind=\"bar\", stacked=True)"
            ]
        },
        {
            "cell_type": "code",
            "execution_count": 44,
            "metadata": {},
            "outputs": [],
            "source": [
                "awards_per_decade_hbcu = (\n",
                "    df[[\"award_decade\", \"AppNumber\", \"is_hbcu\"]]\n",
                "    .groupby([\"award_decade\", \"is_hbcu\"])\n",
                "    .count()\n",
                ")"
            ]
        },
        {
            "cell_type": "code",
            "execution_count": 45,
            "metadata": {},
            "outputs": [
                {
                    "data": {
                        "text/html": [
                            "<div>\n",
                            "<style scoped>\n",
                            "    .dataframe tbody tr th:only-of-type {\n",
                            "        vertical-align: middle;\n",
                            "    }\n",
                            "\n",
                            "    .dataframe tbody tr th {\n",
                            "        vertical-align: top;\n",
                            "    }\n",
                            "\n",
                            "    .dataframe thead th {\n",
                            "        text-align: right;\n",
                            "    }\n",
                            "</style>\n",
                            "<table border=\"1\" class=\"dataframe\">\n",
                            "  <thead>\n",
                            "    <tr style=\"text-align: right;\">\n",
                            "      <th></th>\n",
                            "      <th></th>\n",
                            "      <th>AppNumber</th>\n",
                            "    </tr>\n",
                            "    <tr>\n",
                            "      <th>award_decade</th>\n",
                            "      <th>is_hbcu</th>\n",
                            "      <th></th>\n",
                            "    </tr>\n",
                            "  </thead>\n",
                            "  <tbody>\n",
                            "    <tr>\n",
                            "      <th rowspan=\"2\" valign=\"top\">1960</th>\n",
                            "      <th>False</th>\n",
                            "      <td>0.967049</td>\n",
                            "    </tr>\n",
                            "    <tr>\n",
                            "      <th>True</th>\n",
                            "      <td>0.032951</td>\n",
                            "    </tr>\n",
                            "    <tr>\n",
                            "      <th rowspan=\"2\" valign=\"top\">1970</th>\n",
                            "      <th>False</th>\n",
                            "      <td>0.977925</td>\n",
                            "    </tr>\n",
                            "    <tr>\n",
                            "      <th>True</th>\n",
                            "      <td>0.022075</td>\n",
                            "    </tr>\n",
                            "    <tr>\n",
                            "      <th rowspan=\"2\" valign=\"top\">1980</th>\n",
                            "      <th>False</th>\n",
                            "      <td>0.968930</td>\n",
                            "    </tr>\n",
                            "    <tr>\n",
                            "      <th>True</th>\n",
                            "      <td>0.031070</td>\n",
                            "    </tr>\n",
                            "    <tr>\n",
                            "      <th rowspan=\"2\" valign=\"top\">1990</th>\n",
                            "      <th>False</th>\n",
                            "      <td>0.978904</td>\n",
                            "    </tr>\n",
                            "    <tr>\n",
                            "      <th>True</th>\n",
                            "      <td>0.021096</td>\n",
                            "    </tr>\n",
                            "    <tr>\n",
                            "      <th rowspan=\"2\" valign=\"top\">2000</th>\n",
                            "      <th>False</th>\n",
                            "      <td>0.972192</td>\n",
                            "    </tr>\n",
                            "    <tr>\n",
                            "      <th>True</th>\n",
                            "      <td>0.027808</td>\n",
                            "    </tr>\n",
                            "    <tr>\n",
                            "      <th rowspan=\"2\" valign=\"top\">2010</th>\n",
                            "      <th>False</th>\n",
                            "      <td>0.978152</td>\n",
                            "    </tr>\n",
                            "    <tr>\n",
                            "      <th>True</th>\n",
                            "      <td>0.021848</td>\n",
                            "    </tr>\n",
                            "    <tr>\n",
                            "      <th rowspan=\"2\" valign=\"top\">2020</th>\n",
                            "      <th>False</th>\n",
                            "      <td>0.976383</td>\n",
                            "    </tr>\n",
                            "    <tr>\n",
                            "      <th>True</th>\n",
                            "      <td>0.023617</td>\n",
                            "    </tr>\n",
                            "  </tbody>\n",
                            "</table>\n",
                            "</div>"
                        ],
                        "text/plain": [
                            "                      AppNumber\n",
                            "award_decade is_hbcu           \n",
                            "1960         False     0.967049\n",
                            "             True      0.032951\n",
                            "1970         False     0.977925\n",
                            "             True      0.022075\n",
                            "1980         False     0.968930\n",
                            "             True      0.031070\n",
                            "1990         False     0.978904\n",
                            "             True      0.021096\n",
                            "2000         False     0.972192\n",
                            "             True      0.027808\n",
                            "2010         False     0.978152\n",
                            "             True      0.021848\n",
                            "2020         False     0.976383\n",
                            "             True      0.023617"
                        ]
                    },
                    "execution_count": 45,
                    "metadata": {},
                    "output_type": "execute_result"
                }
            ],
            "source": [
                "awards_per_decade_hbcu.divide(awards_per_decade, level=\"award_decade\")"
            ]
        },
        {
            "cell_type": "code",
            "execution_count": 46,
            "metadata": {},
            "outputs": [
                {
                    "name": "stdout",
                    "output_type": "stream",
                    "text": [
                        "|   Award Decade | HBCU Share of NEH Awards   |\n",
                        "|---------------:|:---------------------------|\n",
                        "|           1960 | 3.3%                       |\n",
                        "|           1970 | 2.2%                       |\n",
                        "|           1980 | 3.1%                       |\n",
                        "|           1990 | 2.1%                       |\n",
                        "|           2000 | 2.8%                       |\n",
                        "|           2010 | 2.2%                       |\n",
                        "|           2020 | 2.4%                       |\n"
                    ]
                }
            ],
            "source": [
                "# table for write-up\n",
                "t = awards_per_decade_hbcu.divide(awards_per_decade, level=\"award_decade\")\n",
                "t.reset_index(inplace=True)\n",
                "t = t[t['is_hbcu']==True][['award_decade', 'AppNumber']]\n",
                "t['AppNumber'] = t['AppNumber'].apply(lambda x: f\"{round(x*100, 1)}%\")\n",
                "t.columns = ['Award Decade', 'HBCU Share of NEH Awards']\n",
                "t.set_index('Award Decade', inplace=True)\n",
                "print(t.to_markdown())"
            ]
        },
        {
            "cell_type": "code",
            "execution_count": 47,
            "metadata": {},
            "outputs": [
                {
                    "data": {
                        "text/plain": [
                            "<Axes: xlabel='award_decade'>"
                        ]
                    },
                    "execution_count": 47,
                    "metadata": {},
                    "output_type": "execute_result"
                },
                {
                    "data": {
                        "image/png": "[encoded data removed]",
                        "text/plain": [
                            "<Figure size 640x480 with 1 Axes>"
                        ]
                    },
                    "metadata": {},
                    "output_type": "display_data"
                }
            ],
            "source": [
                "awards_per_decade_hbcu.divide(awards_per_decade, level=\"award_decade\").unstack().plot(\n",
                "    kind=\"bar\", stacked=True\n",
                ")"
            ]
        },
        {
            "cell_type": "markdown",
            "metadata": {},
            "source": [
                "## Odds ratios"
            ]
        },
        {
            "cell_type": "code",
            "execution_count": 48,
            "metadata": {},
            "outputs": [],
            "source": [
                "hbcu_unique = (\n",
                "    df[df[\"is_hbcu\"] == True]\n",
                "    .groupby(\"award_decade\")[\"Institution\"]\n",
                "    .unique()\n",
                "    .reset_index()\n",
                ")\n",
                "cu_unique = (\n",
                "    df[df[\"is_hbcu\"] == False]\n",
                "    .groupby(\"award_decade\")[\"Institution\"]\n",
                "    .unique()\n",
                "    .reset_index()\n",
                ")"
            ]
        },
        {
            "cell_type": "code",
            "execution_count": 49,
            "metadata": {},
            "outputs": [],
            "source": [
                "def get_institution_cumsum(df):\n",
                "    \"\"\"\n",
                "    Get the number of unique institutions per decade from a dataframe.\n",
                "    Used with dataframe filtered by HBCU.\n",
                "    \"\"\"\n",
                "    awardees = set()\n",
                "    l = list()\n",
                "\n",
                "    for index, row in df.iterrows():\n",
                "        awardees.update(row[\"Institution\"])\n",
                "        d = dict()\n",
                "        d[\"award_decade\"] = row[\"award_decade\"]\n",
                "        d[\"unique_institutions\"] = len(awardees)\n",
                "        l.append(d)\n",
                "\n",
                "    return pd.DataFrame(l)"
            ]
        },
        {
            "cell_type": "code",
            "execution_count": 50,
            "metadata": {},
            "outputs": [],
            "source": [
                "unique_institutions_cumsum = pd.merge(\n",
                "    get_institution_cumsum(hbcu_unique),\n",
                "    get_institution_cumsum(cu_unique),\n",
                "    on=\"award_decade\",\n",
                "    suffixes=(\"_hbcu\", \"_cu\"),\n",
                ")"
            ]
        },
        {
            "cell_type": "code",
            "execution_count": 51,
            "metadata": {},
            "outputs": [
                {
                    "data": {
                        "text/html": [
                            "<div>\n",
                            "<style scoped>\n",
                            "    .dataframe tbody tr th:only-of-type {\n",
                            "        vertical-align: middle;\n",
                            "    }\n",
                            "\n",
                            "    .dataframe tbody tr th {\n",
                            "        vertical-align: top;\n",
                            "    }\n",
                            "\n",
                            "    .dataframe thead th {\n",
                            "        text-align: right;\n",
                            "    }\n",
                            "</style>\n",
                            "<table border=\"1\" class=\"dataframe\">\n",
                            "  <thead>\n",
                            "    <tr style=\"text-align: right;\">\n",
                            "      <th></th>\n",
                            "      <th>award_decade</th>\n",
                            "      <th>unique_institutions_hbcu</th>\n",
                            "      <th>unique_institutions_cu</th>\n",
                            "    </tr>\n",
                            "  </thead>\n",
                            "  <tbody>\n",
                            "    <tr>\n",
                            "      <th>0</th>\n",
                            "      <td>1960</td>\n",
                            "      <td>18</td>\n",
                            "      <td>286</td>\n",
                            "    </tr>\n",
                            "    <tr>\n",
                            "      <th>1</th>\n",
                            "      <td>1970</td>\n",
                            "      <td>55</td>\n",
                            "      <td>1392</td>\n",
                            "    </tr>\n",
                            "    <tr>\n",
                            "      <th>2</th>\n",
                            "      <td>1980</td>\n",
                            "      <td>69</td>\n",
                            "      <td>1672</td>\n",
                            "    </tr>\n",
                            "    <tr>\n",
                            "      <th>3</th>\n",
                            "      <td>1990</td>\n",
                            "      <td>72</td>\n",
                            "      <td>1785</td>\n",
                            "    </tr>\n",
                            "    <tr>\n",
                            "      <th>4</th>\n",
                            "      <td>2000</td>\n",
                            "      <td>77</td>\n",
                            "      <td>1961</td>\n",
                            "    </tr>\n",
                            "    <tr>\n",
                            "      <th>5</th>\n",
                            "      <td>2010</td>\n",
                            "      <td>79</td>\n",
                            "      <td>2173</td>\n",
                            "    </tr>\n",
                            "    <tr>\n",
                            "      <th>6</th>\n",
                            "      <td>2020</td>\n",
                            "      <td>80</td>\n",
                            "      <td>2231</td>\n",
                            "    </tr>\n",
                            "  </tbody>\n",
                            "</table>\n",
                            "</div>"
                        ],
                        "text/plain": [
                            "   award_decade  unique_institutions_hbcu  unique_institutions_cu\n",
                            "0          1960                        18                     286\n",
                            "1          1970                        55                    1392\n",
                            "2          1980                        69                    1672\n",
                            "3          1990                        72                    1785\n",
                            "4          2000                        77                    1961\n",
                            "5          2010                        79                    2173\n",
                            "6          2020                        80                    2231"
                        ]
                    },
                    "execution_count": 51,
                    "metadata": {},
                    "output_type": "execute_result"
                }
            ],
            "source": [
                "unique_institutions_cumsum"
            ]
        },
        {
            "cell_type": "code",
            "execution_count": 52,
            "metadata": {},
            "outputs": [],
            "source": [
                "unique_institutions = (\n",
                "    df[[\"Institution\", \"is_hbcu\", \"award_decade\"]]\n",
                "    .groupby([\"award_decade\", \"is_hbcu\"])\n",
                "    .nunique()\n",
                ")"
            ]
        },
        {
            "cell_type": "code",
            "execution_count": 53,
            "metadata": {},
            "outputs": [],
            "source": [
                "unique_institutions.reset_index(inplace=True)"
            ]
        },
        {
            "cell_type": "code",
            "execution_count": 54,
            "metadata": {},
            "outputs": [],
            "source": [
                "unique_institutions = unique_institutions.pivot(\n",
                "    index=\"award_decade\", columns=\"is_hbcu\", values=\"Institution\"\n",
                ")"
            ]
        },
        {
            "cell_type": "code",
            "execution_count": 55,
            "metadata": {},
            "outputs": [
                {
                    "data": {
                        "text/html": [
                            "<div>\n",
                            "<style scoped>\n",
                            "    .dataframe tbody tr th:only-of-type {\n",
                            "        vertical-align: middle;\n",
                            "    }\n",
                            "\n",
                            "    .dataframe tbody tr th {\n",
                            "        vertical-align: top;\n",
                            "    }\n",
                            "\n",
                            "    .dataframe thead th {\n",
                            "        text-align: right;\n",
                            "    }\n",
                            "</style>\n",
                            "<table border=\"1\" class=\"dataframe\">\n",
                            "  <thead>\n",
                            "    <tr style=\"text-align: right;\">\n",
                            "      <th>is_hbcu</th>\n",
                            "      <th>False</th>\n",
                            "      <th>True</th>\n",
                            "    </tr>\n",
                            "    <tr>\n",
                            "      <th>award_decade</th>\n",
                            "      <th></th>\n",
                            "      <th></th>\n",
                            "    </tr>\n",
                            "  </thead>\n",
                            "  <tbody>\n",
                            "    <tr>\n",
                            "      <th>1960</th>\n",
                            "      <td>286</td>\n",
                            "      <td>18</td>\n",
                            "    </tr>\n",
                            "    <tr>\n",
                            "      <th>1970</th>\n",
                            "      <td>1379</td>\n",
                            "      <td>52</td>\n",
                            "    </tr>\n",
                            "    <tr>\n",
                            "      <th>1980</th>\n",
                            "      <td>1112</td>\n",
                            "      <td>63</td>\n",
                            "    </tr>\n",
                            "    <tr>\n",
                            "      <th>1990</th>\n",
                            "      <td>808</td>\n",
                            "      <td>47</td>\n",
                            "    </tr>\n",
                            "    <tr>\n",
                            "      <th>2000</th>\n",
                            "      <td>938</td>\n",
                            "      <td>46</td>\n",
                            "    </tr>\n",
                            "    <tr>\n",
                            "      <th>2010</th>\n",
                            "      <td>974</td>\n",
                            "      <td>35</td>\n",
                            "    </tr>\n",
                            "    <tr>\n",
                            "      <th>2020</th>\n",
                            "      <td>617</td>\n",
                            "      <td>23</td>\n",
                            "    </tr>\n",
                            "  </tbody>\n",
                            "</table>\n",
                            "</div>"
                        ],
                        "text/plain": [
                            "is_hbcu       False  True \n",
                            "award_decade              \n",
                            "1960            286     18\n",
                            "1970           1379     52\n",
                            "1980           1112     63\n",
                            "1990            808     47\n",
                            "2000            938     46\n",
                            "2010            974     35\n",
                            "2020            617     23"
                        ]
                    },
                    "execution_count": 55,
                    "metadata": {},
                    "output_type": "execute_result"
                }
            ],
            "source": [
                "unique_institutions"
            ]
        },
        {
            "cell_type": "code",
            "execution_count": 56,
            "metadata": {},
            "outputs": [],
            "source": [
                "unique_institutions_cumsum.set_index(\"award_decade\", inplace=True)"
            ]
        },
        {
            "cell_type": "code",
            "execution_count": 57,
            "metadata": {},
            "outputs": [
                {
                    "data": {
                        "text/html": [
                            "<div>\n",
                            "<style scoped>\n",
                            "    .dataframe tbody tr th:only-of-type {\n",
                            "        vertical-align: middle;\n",
                            "    }\n",
                            "\n",
                            "    .dataframe tbody tr th {\n",
                            "        vertical-align: top;\n",
                            "    }\n",
                            "\n",
                            "    .dataframe thead th {\n",
                            "        text-align: right;\n",
                            "    }\n",
                            "</style>\n",
                            "<table border=\"1\" class=\"dataframe\">\n",
                            "  <thead>\n",
                            "    <tr style=\"text-align: right;\">\n",
                            "      <th></th>\n",
                            "      <th>unique_institutions_hbcu</th>\n",
                            "      <th>unique_institutions_cu</th>\n",
                            "    </tr>\n",
                            "    <tr>\n",
                            "      <th>award_decade</th>\n",
                            "      <th></th>\n",
                            "      <th></th>\n",
                            "    </tr>\n",
                            "  </thead>\n",
                            "  <tbody>\n",
                            "    <tr>\n",
                            "      <th>1960</th>\n",
                            "      <td>18</td>\n",
                            "      <td>286</td>\n",
                            "    </tr>\n",
                            "    <tr>\n",
                            "      <th>1970</th>\n",
                            "      <td>55</td>\n",
                            "      <td>1392</td>\n",
                            "    </tr>\n",
                            "    <tr>\n",
                            "      <th>1980</th>\n",
                            "      <td>69</td>\n",
                            "      <td>1672</td>\n",
                            "    </tr>\n",
                            "    <tr>\n",
                            "      <th>1990</th>\n",
                            "      <td>72</td>\n",
                            "      <td>1785</td>\n",
                            "    </tr>\n",
                            "    <tr>\n",
                            "      <th>2000</th>\n",
                            "      <td>77</td>\n",
                            "      <td>1961</td>\n",
                            "    </tr>\n",
                            "    <tr>\n",
                            "      <th>2010</th>\n",
                            "      <td>79</td>\n",
                            "      <td>2173</td>\n",
                            "    </tr>\n",
                            "    <tr>\n",
                            "      <th>2020</th>\n",
                            "      <td>80</td>\n",
                            "      <td>2231</td>\n",
                            "    </tr>\n",
                            "  </tbody>\n",
                            "</table>\n",
                            "</div>"
                        ],
                        "text/plain": [
                            "              unique_institutions_hbcu  unique_institutions_cu\n",
                            "award_decade                                                  \n",
                            "1960                                18                     286\n",
                            "1970                                55                    1392\n",
                            "1980                                69                    1672\n",
                            "1990                                72                    1785\n",
                            "2000                                77                    1961\n",
                            "2010                                79                    2173\n",
                            "2020                                80                    2231"
                        ]
                    },
                    "execution_count": 57,
                    "metadata": {},
                    "output_type": "execute_result"
                }
            ],
            "source": [
                "unique_institutions_cumsum"
            ]
        },
        {
            "cell_type": "code",
            "execution_count": 58,
            "metadata": {},
            "outputs": [],
            "source": [
                "l = list()\n",
                "l.append(\n",
                "    unique_institutions[True].divide(\n",
                "        unique_institutions_cumsum[\"unique_institutions_hbcu\"]\n",
                "    )\n",
                ")\n",
                "l.append(\n",
                "    unique_institutions[False].divide(\n",
                "        unique_institutions_cumsum[\"unique_institutions_cu\"]\n",
                "    )\n",
                ")"
            ]
        },
        {
            "cell_type": "code",
            "execution_count": 59,
            "metadata": {},
            "outputs": [
                {
                    "data": {
                        "text/html": [
                            "<div>\n",
                            "<style scoped>\n",
                            "    .dataframe tbody tr th:only-of-type {\n",
                            "        vertical-align: middle;\n",
                            "    }\n",
                            "\n",
                            "    .dataframe tbody tr th {\n",
                            "        vertical-align: top;\n",
                            "    }\n",
                            "\n",
                            "    .dataframe thead th {\n",
                            "        text-align: right;\n",
                            "    }\n",
                            "</style>\n",
                            "<table border=\"1\" class=\"dataframe\">\n",
                            "  <thead>\n",
                            "    <tr style=\"text-align: right;\">\n",
                            "      <th></th>\n",
                            "      <th>hbcu</th>\n",
                            "      <th>cu</th>\n",
                            "    </tr>\n",
                            "    <tr>\n",
                            "      <th>award_decade</th>\n",
                            "      <th></th>\n",
                            "      <th></th>\n",
                            "    </tr>\n",
                            "  </thead>\n",
                            "  <tbody>\n",
                            "    <tr>\n",
                            "      <th>1960</th>\n",
                            "      <td>1.000000</td>\n",
                            "      <td>1.000000</td>\n",
                            "    </tr>\n",
                            "    <tr>\n",
                            "      <th>1970</th>\n",
                            "      <td>0.945455</td>\n",
                            "      <td>0.990661</td>\n",
                            "    </tr>\n",
                            "    <tr>\n",
                            "      <th>1980</th>\n",
                            "      <td>0.913043</td>\n",
                            "      <td>0.665072</td>\n",
                            "    </tr>\n",
                            "    <tr>\n",
                            "      <th>1990</th>\n",
                            "      <td>0.652778</td>\n",
                            "      <td>0.452661</td>\n",
                            "    </tr>\n",
                            "    <tr>\n",
                            "      <th>2000</th>\n",
                            "      <td>0.597403</td>\n",
                            "      <td>0.478327</td>\n",
                            "    </tr>\n",
                            "    <tr>\n",
                            "      <th>2010</th>\n",
                            "      <td>0.443038</td>\n",
                            "      <td>0.448228</td>\n",
                            "    </tr>\n",
                            "    <tr>\n",
                            "      <th>2020</th>\n",
                            "      <td>0.287500</td>\n",
                            "      <td>0.276558</td>\n",
                            "    </tr>\n",
                            "  </tbody>\n",
                            "</table>\n",
                            "</div>"
                        ],
                        "text/plain": [
                            "                  hbcu        cu\n",
                            "award_decade                    \n",
                            "1960          1.000000  1.000000\n",
                            "1970          0.945455  0.990661\n",
                            "1980          0.913043  0.665072\n",
                            "1990          0.652778  0.452661\n",
                            "2000          0.597403  0.478327\n",
                            "2010          0.443038  0.448228\n",
                            "2020          0.287500  0.276558"
                        ]
                    },
                    "execution_count": 59,
                    "metadata": {},
                    "output_type": "execute_result"
                }
            ],
            "source": [
                "ratios = pd.concat(l, axis=1)\n",
                "ratios.columns = [\"hbcu\", \"cu\"]\n",
                "ratios"
            ]
        },
        {
            "cell_type": "markdown",
            "metadata": {},
            "source": [
                "This uses the odds ratio for sequential observations as shown here:\n",
                "\n",
                "Paul DiMaggio and Toqir Mukhtar, “Arts Participation as Cultural Capital in the United States, 1982–2002: Signs of Decline?,” Poetics, Gender, networks, and cultural capital, 32, no. 2 (April 1, 2004): 169–94, https://doi.org/10.1016/j.poetic.2004.02.005."
            ]
        },
        {
            "cell_type": "code",
            "execution_count": 71,
            "metadata": {},
            "outputs": [],
            "source": [
                "l = list()\n",
                "\n",
                "for index, row in ratios.iterrows():\n",
                "    # div 0 warning in 1960s, where odds ratio is 1/(1-1)\n",
                "    if row['award_decade'] == 1960:\n",
                "        odds_ratio = 1\n",
                "        l.append(odds_ratio)\n",
                "        continue\n",
                "    odds_ratio = (row[\"hbcu\"] / (1 - row[\"hbcu\"])) / (row[\"cu\"] / (1 - row[\"cu\"]))\n",
                "    l.append(odds_ratio)"
            ]
        },
        {
            "cell_type": "code",
            "execution_count": 72,
            "metadata": {},
            "outputs": [],
            "source": [
                "ratios[\"hbcu/cu odds ratio\"] = l"
            ]
        },
        {
            "cell_type": "code",
            "execution_count": 73,
            "metadata": {},
            "outputs": [
                {
                    "data": {
                        "text/html": [
                            "<div>\n",
                            "<style scoped>\n",
                            "    .dataframe tbody tr th:only-of-type {\n",
                            "        vertical-align: middle;\n",
                            "    }\n",
                            "\n",
                            "    .dataframe tbody tr th {\n",
                            "        vertical-align: top;\n",
                            "    }\n",
                            "\n",
                            "    .dataframe thead th {\n",
                            "        text-align: right;\n",
                            "    }\n",
                            "</style>\n",
                            "<table border=\"1\" class=\"dataframe\">\n",
                            "  <thead>\n",
                            "    <tr style=\"text-align: right;\">\n",
                            "      <th></th>\n",
                            "      <th>index</th>\n",
                            "      <th>award_decade</th>\n",
                            "      <th>hbcu</th>\n",
                            "      <th>cu</th>\n",
                            "      <th>hbcu/cu odds ratio</th>\n",
                            "    </tr>\n",
                            "  </thead>\n",
                            "  <tbody>\n",
                            "    <tr>\n",
                            "      <th>0</th>\n",
                            "      <td>0</td>\n",
                            "      <td>1960</td>\n",
                            "      <td>1.000000</td>\n",
                            "      <td>1.000000</td>\n",
                            "      <td>1.000000</td>\n",
                            "    </tr>\n",
                            "    <tr>\n",
                            "      <th>1</th>\n",
                            "      <td>1</td>\n",
                            "      <td>1970</td>\n",
                            "      <td>0.945455</td>\n",
                            "      <td>0.990661</td>\n",
                            "      <td>0.163403</td>\n",
                            "    </tr>\n",
                            "    <tr>\n",
                            "      <th>2</th>\n",
                            "      <td>2</td>\n",
                            "      <td>1980</td>\n",
                            "      <td>0.913043</td>\n",
                            "      <td>0.665072</td>\n",
                            "      <td>5.287770</td>\n",
                            "    </tr>\n",
                            "    <tr>\n",
                            "      <th>3</th>\n",
                            "      <td>3</td>\n",
                            "      <td>1990</td>\n",
                            "      <td>0.652778</td>\n",
                            "      <td>0.452661</td>\n",
                            "      <td>2.273218</td>\n",
                            "    </tr>\n",
                            "    <tr>\n",
                            "      <th>4</th>\n",
                            "      <td>4</td>\n",
                            "      <td>2000</td>\n",
                            "      <td>0.597403</td>\n",
                            "      <td>0.478327</td>\n",
                            "      <td>1.618337</td>\n",
                            "    </tr>\n",
                            "    <tr>\n",
                            "      <th>5</th>\n",
                            "      <td>5</td>\n",
                            "      <td>2010</td>\n",
                            "      <td>0.443038</td>\n",
                            "      <td>0.448228</td>\n",
                            "      <td>0.979209</td>\n",
                            "    </tr>\n",
                            "    <tr>\n",
                            "      <th>6</th>\n",
                            "      <td>6</td>\n",
                            "      <td>2020</td>\n",
                            "      <td>0.287500</td>\n",
                            "      <td>0.276558</td>\n",
                            "      <td>1.055532</td>\n",
                            "    </tr>\n",
                            "  </tbody>\n",
                            "</table>\n",
                            "</div>"
                        ],
                        "text/plain": [
                            "   index  award_decade      hbcu        cu  hbcu/cu odds ratio\n",
                            "0      0          1960  1.000000  1.000000            1.000000\n",
                            "1      1          1970  0.945455  0.990661            0.163403\n",
                            "2      2          1980  0.913043  0.665072            5.287770\n",
                            "3      3          1990  0.652778  0.452661            2.273218\n",
                            "4      4          2000  0.597403  0.478327            1.618337\n",
                            "5      5          2010  0.443038  0.448228            0.979209\n",
                            "6      6          2020  0.287500  0.276558            1.055532"
                        ]
                    },
                    "execution_count": 73,
                    "metadata": {},
                    "output_type": "execute_result"
                }
            ],
            "source": [
                "ratios.reset_index(inplace=True)\n",
                "ratios"
            ]
        },
        {
            "cell_type": "code",
            "execution_count": 65,
            "metadata": {},
            "outputs": [
                {
                    "name": "stdout",
                    "output_type": "stream",
                    "text": [
                        "|   Award Decade |   HBCU/CU Odds Ratio |\n",
                        "|---------------:|---------------------:|\n",
                        "|           1970 |                 0.16 |\n",
                        "|           1980 |                 5.29 |\n",
                        "|           1990 |                 2.27 |\n",
                        "|           2000 |                 1.62 |\n",
                        "|           2010 |                 0.98 |\n",
                        "|           2020 |                 1.06 |\n"
                    ]
                }
            ],
            "source": [
                "# make table for report\n",
                "t = ratios[['award_decade', 'hbcu/cu odds ratio']]\n",
                "t = t[t['award_decade'] > 1960] # calculated relative to prior awards; 1960s div0\n",
                "t['hbcu/cu odds ratio'] = t['hbcu/cu odds ratio'].apply(lambda x: round(x, 2))\n",
                "t.columns = ['Award Decade', 'HBCU/CU Odds Ratio']\n",
                "t.set_index('Award Decade', inplace=True)\n",
                "print(t.to_markdown())"
            ]
        },
        {
            "cell_type": "markdown",
            "metadata": {},
            "source": [
                "# AI acknowledgment\n",
                "\n",
                "This work was completed in Microsoft's Visual Studio Code with occasional assistance from [GitHub Copilot](https://github.com/features/copilot).\n",
                "\n",
                "Other references are linked in the document."
            ]
        }
    ],
    "metadata": {
        "kernelspec": {
            "display_name": "Python 3",
            "language": "python",
            "name": "python3"
        },
        "language_info": {
            "codemirror_mode": {
                "name": "ipython",
                "version": 3
            },
            "file_extension": ".py",
            "mimetype": "text/x-python",
            "name": "python",
            "nbconvert_exporter": "python",
            "pygments_lexer": "ipython3",
            "version": "3.11.4"
        },
        "orig_nbformat": 4
    },
    "nbformat": 4,
    "nbformat_minor": 2
}
